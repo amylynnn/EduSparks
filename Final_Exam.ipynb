{
  "nbformat": 4,
  "nbformat_minor": 0,
  "metadata": {
    "colab": {
      "provenance": [],
      "authorship_tag": "ABX9TyOd09V+2K0zeizwiA0rQDyo",
      "include_colab_link": true
    },
    "kernelspec": {
      "name": "python3",
      "display_name": "Python 3"
    },
    "language_info": {
      "name": "python"
    }
  },
  "cells": [
    {
      "cell_type": "markdown",
      "metadata": {
        "id": "view-in-github",
        "colab_type": "text"
      },
      "source": [
        "<a href=\"https://colab.research.google.com/github/amylynnn/EduSparks/blob/master/Final_Exam.ipynb\" target=\"_parent\"><img src=\"https://colab.research.google.com/assets/colab-badge.svg\" alt=\"Open In Colab\"/></a>"
      ]
    },
    {
      "cell_type": "code",
      "execution_count": null,
      "metadata": {
        "id": "RjrpfRs4LTEH"
      },
      "outputs": [],
      "source": [
        "# Section 1: Iterative Prompt Engineering\n",
        "#--------------------------------------------------------------------------------------------------\n",
        "# 1.1 Initial Prompt & Pseudocode\n",
        "#---------------------------------\n",
        "\n",
        "\"\"\"Initial Prompt:\n",
        "\n",
        "Please provide structured pseudocode for a CLI Task Manager that allows users to add, list,\n",
        "and remove tasks stored in memory. Use only basic lists, dictionaries, functions with parameters,\n",
        "while loops for menu systems, and basic error handling as taught up to Week 10.\"\"\"\n",
        "\n",
        "\"AI’s Response:\"\n",
        "\n",
        "Initialize an empty list called tasks\n",
        "\n",
        "Define function display_menu:\n",
        "    Print menu options:\n",
        "        1. Add Task\n",
        "        2. List Tasks\n",
        "        3. Remove Task\n",
        "        4. Quit\n",
        "\n",
        "Define function add_task:\n",
        "    Prompt user for task description\n",
        "    Append task to tasks list\n",
        "\n",
        "Define function list_tasks:\n",
        "    If tasks list is empty:\n",
        "        Print \"No tasks available.\"\n",
        "    Else:\n",
        "        For each task in tasks list:\n",
        "            Print task with its index\n",
        "\n",
        "Define function remove_task:\n",
        "    Prompt user for task index to remove\n",
        "    If index is valid:\n",
        "        Remove task from tasks list\n",
        "    Else:\n",
        "        Print \"Invalid index.\"\n",
        "\n",
        "Define function main:\n",
        "    While True:\n",
        "        Call display_menu\n",
        "        Prompt user for choice\n",
        "        If choice is 1:\n",
        "            Call add_task\n",
        "        Else if choice is 2:\n",
        "            Call list_tasks\n",
        "        Else if choice is 3:\n",
        "            Call remove_task\n",
        "        Else if choice is 4:\n",
        "            Break loop\n",
        "        Else:\n",
        "            Print \"Invalid choice.\"\n",
        "\n",
        "Call main function\n",
        "\n",
        "#Course Reference:\n",
        "\n",
        "\"\"\"Week 2: Prompting user input and storing it in a variable\n",
        "\n",
        "Week 4: Creating reusable functions like add_task() and main()\n",
        "\n",
        "Week 5: Using lists and loops for managing collections and repetition\n",
        "\n",
        "Week 3: Applying decision-making with if, elif, and else\"\"\""
      ]
    },
    {
      "cell_type": "code",
      "source": [
        "# 1.2 Two Prompt Refinements\n",
        "#-------------------------------\n",
        "\n",
        "\"\"\" First Refinement Prompt:\n",
        "Please revise the pseudocode to include input validation for user choices and task indices,\n",
        "ensuring the program handles non-integer inputs gracefully.\"\"\"\n",
        "\n",
        "\"AI Response:\"\n",
        "\n",
        "In function remove_task:\n",
        "    Try:\n",
        "        Convert user input to integer\n",
        "        If index is within range:\n",
        "            Remove task\n",
        "        Else:\n",
        "            Print \"Invalid index.\"\n",
        "    Except:\n",
        "        Print \"Please enter a valid number.\"\n",
        "\n",
        "In function main:\n",
        "    Try:\n",
        "        Convert user input to integer\n",
        "        Proceed with choice\n",
        "    Except:\n",
        "        Print \"Please enter a valid number.\"\n",
        "\n",
        "#Course Reference:\n",
        "\n",
        "\"\"\"Week 11: Safe use of try/except to protect user inputs\n",
        "\n",
        "Week 3: Logical conditions for checking input ranges \"\"\"\n",
        "\n",
        "#-----------------------------------------------------\n",
        "\n",
        "\"\"\"Second Refinement Prompt:\n",
        "Please adjust the pseudocode to include comments explaining each function's\n",
        "purpose and how it aligns with the course's error handling practices.\"\"\"\n",
        "\n",
        "\"AI Response:\"\n",
        "\n",
        "Define function add_task:\n",
        "    # Adds a new task to the task list\n",
        "\n",
        "Define function list_tasks:\n",
        "    # Displays all tasks to the user\n",
        "\n",
        "Define function remove_task:\n",
        "    # Removes a task by its index, with input validation\n",
        "\n",
        "Define function main:\n",
        "    # Main loop controlling menu and logic\n",
        "\n",
        "# Course Reference:\n",
        "\n",
        "\"\"\"Week 4: Writing self-documenting, reusable functions\n",
        "\n",
        "Week 12: Importance of writing clear, testable logic (prepares for debugging)\"\"\"\n",
        "\n"
      ],
      "metadata": {
        "id": "iP_SD_f7MBiK"
      },
      "execution_count": null,
      "outputs": []
    },
    {
      "cell_type": "markdown",
      "source": [
        "1.3 Critical Analysis with Course References\n",
        "\n",
        "My initial prompt focused on designing a basic CLI task manager using input, loops, and lists – aligning well with the skills introduced in Week 2 (user input) and Week 5 (lists and loops). As I refined the prompt, I realised the importance of input validation and error-handling practices taught in Week 11, especially how to use try/except to prevent crashes from invalid data.\n",
        "\n",
        "The second refinement incorporated meaningful comments and modular logic from Week 4, making the pseudocode easier to understand and extend. This directly reflects the emphasis on function reuse and clean code documentation.\n",
        "\n",
        "Overall, this iterative process helped me better appreciate the course’s approach to structuring programs in layers — starting from user input and logic (Week 3) through to robust error handling (Week 11) and testability (Week 12). Iterative prompt engineering using AI helped simulate how a programmer plans and polishes code before implementing it."
      ],
      "metadata": {
        "id": "_Ph-vUypN4ge"
      }
    }
  ]
}