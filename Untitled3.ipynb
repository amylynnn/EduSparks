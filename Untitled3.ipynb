{
  "nbformat": 4,
  "nbformat_minor": 0,
  "metadata": {
    "colab": {
      "provenance": [],
      "authorship_tag": "ABX9TyNrPgZ85sfTAuKgcjDQ2+h8",
      "include_colab_link": true
    },
    "kernelspec": {
      "name": "python3",
      "display_name": "Python 3"
    },
    "language_info": {
      "name": "python"
    }
  },
  "cells": [
    {
      "cell_type": "markdown",
      "metadata": {
        "id": "view-in-github",
        "colab_type": "text"
      },
      "source": [
        "<a href=\"https://colab.research.google.com/github/amylynnn/EduSparks/blob/master/Untitled3.ipynb\" target=\"_parent\"><img src=\"https://colab.research.google.com/assets/colab-badge.svg\" alt=\"Open In Colab\"/></a>"
      ]
    },
    {
      "cell_type": "code",
      "execution_count": 1,
      "metadata": {
        "colab": {
          "base_uri": "https://localhost:8080/"
        },
        "id": "FJsRS7pZ1dLd",
        "outputId": "a84d58b3-765a-4a2d-cdf5-ddd6e7f6a14d"
      },
      "outputs": [
        {
          "output_type": "stream",
          "name": "stdout",
          "text": [
            "1\n",
            "2\n",
            "3\n",
            "4\n",
            "5\n"
          ]
        }
      ],
      "source": [
        "count = 1\n",
        "while count <= 5:\n",
        "    print(count)\n",
        "    count += 1"
      ]
    },
    {
      "cell_type": "code",
      "source": [
        "even_numbers = []\n",
        "for num in range(1, 21):\n",
        "    if num % 2 == 0:\n",
        "        even_numbers.append(num)\n",
        "\n",
        "print(even_numbers)\n"
      ],
      "metadata": {
        "colab": {
          "base_uri": "https://localhost:8080/"
        },
        "id": "Y22awSJC4Oug",
        "outputId": "85f239e4-73bb-4c71-91fc-53f579694949"
      },
      "execution_count": 3,
      "outputs": [
        {
          "output_type": "stream",
          "name": "stdout",
          "text": [
            "[2, 4, 6, 8, 10, 12, 14, 16, 18, 20]\n"
          ]
        }
      ]
    },
    {
      "cell_type": "code",
      "source": [
        "even_numbers = [num for num in range(2, 21, 2)]\n",
        "print(even_numbers)"
      ],
      "metadata": {
        "colab": {
          "base_uri": "https://localhost:8080/"
        },
        "id": "Xh_2BACZ435R",
        "outputId": "ac9e2516-3fef-4ed6-b445-2c15347a4692"
      },
      "execution_count": 4,
      "outputs": [
        {
          "output_type": "stream",
          "name": "stdout",
          "text": [
            "[2, 4, 6, 8, 10, 12, 14, 16, 18, 20]\n"
          ]
        }
      ]
    },
    {
      "cell_type": "code",
      "source": [
        "cube_numbers = [n**3 for n in range(1, 11)]\n",
        "print(cube_numbers)"
      ],
      "metadata": {
        "colab": {
          "base_uri": "https://localhost:8080/"
        },
        "id": "1IQ-dvcW5pOy",
        "outputId": "1530d589-aafc-4980-a76a-34e9905d399e"
      },
      "execution_count": 5,
      "outputs": [
        {
          "output_type": "stream",
          "name": "stdout",
          "text": [
            "[1, 8, 27, 64, 125, 216, 343, 512, 729, 1000]\n"
          ]
        }
      ]
    },
    {
      "cell_type": "code",
      "source": [
        "cubes = []\n",
        "for x in range(1, 11):\n",
        "  cubes.append(x**3)\n",
        "  print(cubes)"
      ],
      "metadata": {
        "colab": {
          "base_uri": "https://localhost:8080/"
        },
        "id": "lNGuTGEb6EAj",
        "outputId": "6a3dd3cf-8b81-46e3-99ea-adb2d9c31daf"
      },
      "execution_count": 6,
      "outputs": [
        {
          "output_type": "stream",
          "name": "stdout",
          "text": [
            "[1]\n",
            "[1, 8]\n",
            "[1, 8, 27]\n",
            "[1, 8, 27, 64]\n",
            "[1, 8, 27, 64, 125]\n",
            "[1, 8, 27, 64, 125, 216]\n",
            "[1, 8, 27, 64, 125, 216, 343]\n",
            "[1, 8, 27, 64, 125, 216, 343, 512]\n",
            "[1, 8, 27, 64, 125, 216, 343, 512, 729]\n",
            "[1, 8, 27, 64, 125, 216, 343, 512, 729, 1000]\n"
          ]
        }
      ]
    },
    {
      "cell_type": "code",
      "source": [
        "print([x**3 for x in range(1, 11)])"
      ],
      "metadata": {
        "colab": {
          "base_uri": "https://localhost:8080/"
        },
        "id": "lmEMYiJI6auv",
        "outputId": "8847e707-2c02-46b6-8b49-f5849c53a8d6"
      },
      "execution_count": 7,
      "outputs": [
        {
          "output_type": "stream",
          "name": "stdout",
          "text": [
            "[1, 8, 27, 64, 125, 216, 343, 512, 729, 1000]\n"
          ]
        }
      ]
    },
    {
      "cell_type": "code",
      "source": [
        "for i in range(1, 6):\n",
        "  for j in range(1, 6):\n",
        "    print(f\"{i},x {j} = {i*j}\")\n",
        "    print(\"------\")"
      ],
      "metadata": {
        "colab": {
          "base_uri": "https://localhost:8080/"
        },
        "id": "1aZRss5a9_bw",
        "outputId": "130a430f-0523-4270-caea-6d5b591777b1"
      },
      "execution_count": 8,
      "outputs": [
        {
          "output_type": "stream",
          "name": "stdout",
          "text": [
            "1,x 1 = 1\n",
            "------\n",
            "1,x 2 = 2\n",
            "------\n",
            "1,x 3 = 3\n",
            "------\n",
            "1,x 4 = 4\n",
            "------\n",
            "1,x 5 = 5\n",
            "------\n",
            "2,x 1 = 2\n",
            "------\n",
            "2,x 2 = 4\n",
            "------\n",
            "2,x 3 = 6\n",
            "------\n",
            "2,x 4 = 8\n",
            "------\n",
            "2,x 5 = 10\n",
            "------\n",
            "3,x 1 = 3\n",
            "------\n",
            "3,x 2 = 6\n",
            "------\n",
            "3,x 3 = 9\n",
            "------\n",
            "3,x 4 = 12\n",
            "------\n",
            "3,x 5 = 15\n",
            "------\n",
            "4,x 1 = 4\n",
            "------\n",
            "4,x 2 = 8\n",
            "------\n",
            "4,x 3 = 12\n",
            "------\n",
            "4,x 4 = 16\n",
            "------\n",
            "4,x 5 = 20\n",
            "------\n",
            "5,x 1 = 5\n",
            "------\n",
            "5,x 2 = 10\n",
            "------\n",
            "5,x 3 = 15\n",
            "------\n",
            "5,x 4 = 20\n",
            "------\n",
            "5,x 5 = 25\n",
            "------\n"
          ]
        }
      ]
    }
  ]
}